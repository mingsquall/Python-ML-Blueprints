{
 "cells": [
  {
   "cell_type": "code",
   "execution_count": 41,
   "metadata": {
    "collapsed": true
   },
   "outputs": [],
   "source": [
    "import jieba\n",
    "import jieba.posseg as pseg\n",
    "import matplotlib.pyplot as plt\n",
    "\n",
    "from os import path\n",
    "import sys\n",
    "\n",
    "import re\n",
    "import requests\n",
    "from scipy.misc import imread\n",
    "import time\n",
    "from wordcloud import WordCloud"
   ]
  },
  {
   "cell_type": "markdown",
   "metadata": {},
   "source": [
    "## 数据的获取\n",
    "    1.1 利用 Requests 库的 get()函数爬取网页\n",
    "    1.2 找到其中的新闻标题模式(正则)\n",
    "    1.3 利用 re 模块中的 findall()函数提取出标题，将它们存入文件"
   ]
  },
  {
   "cell_type": "code",
   "execution_count": 42,
   "metadata": {
    "collapsed": true
   },
   "outputs": [],
   "source": [
    "def fetch_163_tech_news():\n",
    "    # 使用正则匹配出新闻标题\n",
    "    PATTERN = re.compile('.html\">(.*?)</a></h3>')\n",
    "    BASE_URL = \"http://tech.163.com/special/it_2016\"\n",
    "    MAX_PAGE_NUM = 10\n",
    "\n",
    "    with open('subjects.txt', 'w', encoding='utf-8') as f:\n",
    "        # page1比较特殊 单独写入\n",
    "        r_p1 = requests.get(BASE_URL)\n",
    "        data_p1 = r_p1.text\n",
    "        subject_p1 = re.findall(PATTERN, data_p1)\n",
    "        for s_p1 in subject_p1:\n",
    "            f.write(s_p1)\n",
    "        # 余下的页面循环写入\n",
    "        for i in range(2, MAX_PAGE_NUM):\n",
    "            r = requests.get(BASE_URL + '_0' + str(i))\n",
    "            data = r.text\n",
    "            subjects = re.findall(PATTERN, data)\n",
    "            for s in subjects:\n",
    "                f.write(s)\n",
    "            time.sleep(5)"
   ]
  },
  {
   "cell_type": "markdown",
   "metadata": {},
   "source": [
    "## 标题分词(jieba) - 去除停用词 - 选择名词 - 根据词频画出词云"
   ]
  },
  {
   "cell_type": "code",
   "execution_count": 43,
   "metadata": {
    "collapsed": true
   },
   "outputs": [],
   "source": [
    "def extract_words():\n",
    "    with open('subjects.txt', 'r', encoding='utf-8') as f:\n",
    "        allSubjectsLine = f.readlines()\n",
    "        \n",
    "    hotWordLists = []\n",
    "    \n",
    "    # 设置停用词，存入set集合备用\n",
    "    stop_words = set(line.strip() for line in open('stopwords.txt', encoding='utf-8'))\n",
    "    \n",
    "    for subject in allSubjectsLine:\n",
    "        if subject.isspace():\n",
    "            continue\n",
    "        \n",
    "        # 每一行使用jieba分词\n",
    "        word_list = pseg.cut(subject)\n",
    "        # flag选择\"n\"名词词性（\"n\"是名词，“a”是形容词，“v”是动词）\n",
    "        for word, flag in word_list:\n",
    "            # 去除停用词：单词若不在停用词中，且为名词，则加入列表中\n",
    "            if not word in stop_words and flag == 'n':\n",
    "                hotWordLists.append(word)\n",
    "    content = ' '.join(hotWordLists) # 使用空格拼接 经过jieba分词后的hotWordLists中的 每一个词\n",
    "    \n",
    "    # 获得当前路径\n",
    "    filedir = sys.path[0]\n",
    "    dir = path.dirname(filedir)\n",
    "    mask_image = imread(path.join(dir, \"Paperplane.png\")) # 读取所选用的遮罩图片\n",
    "    \n",
    "    # 设置词云属性（字体，背景颜色，词云形状，允许最大词汇）\n",
    "    wordcloud = WordCloud(font_path='simhei.ttf',\n",
    "                          background_color=\"black\",\n",
    "                          mask=mask_image, \n",
    "                          max_words=30)\n",
    "    wordcloud.generate(content) # 产生词云\n",
    "    \n",
    "    # 显示生成的词云图\n",
    "    plt.imshow(wordcloud)\n",
    "    plt.axis(\"off\")\n",
    "    wordcloud.to_file('wordcloud.jpg') # 保存图片\n",
    "    plt.show()"
   ]
  },
  {
   "cell_type": "code",
   "execution_count": 44,
   "metadata": {},
   "outputs": [
    {
     "data": {
      "image/png": "[encoded data removed]",
      "text/plain": [
       "<matplotlib.figure.Figure at 0x11c29f3c8>"
      ]
     },
     "metadata": {},
     "output_type": "display_data"
    }
   ],
   "source": [
    "if __name__ == \"__main__\":\n",
    "    fetch_163_tech_news()\n",
    "    extract_words()"
   ]
  }
 ],
 "metadata": {
  "kernelspec": {
   "display_name": "Python 3",
   "language": "python",
   "name": "python3"
  },
  "language_info": {
   "codemirror_mode": {
    "name": "ipython",
    "version": 3
   },
   "file_extension": ".py",
   "mimetype": "text/x-python",
   "name": "python",
   "nbconvert_exporter": "python",
   "pygments_lexer": "ipython3",
   "version": "3.5.4"
  }
 },
 "nbformat": 4,
 "nbformat_minor": 2
}
