{
 "cells": [
  {
   "cell_type": "markdown",
   "metadata": {},
   "source": [
    "# 主要步骤\n",
    "1. 网络数据读取与保存\n",
    "\n",
    "2. 使用scipy中的wavfile模块对音频信号进行简单的幅度处理\n",
    "\n",
    "3. 使用matplotlib中的pylab模块对音频信号进行简单的频谱分析"
   ]
  },
  {
   "cell_type": "markdown",
   "metadata": {},
   "source": [
    "## 网络数据读取与保存"
   ]
  },
  {
   "cell_type": "code",
   "execution_count": 43,
   "metadata": {
    "collapsed": true
   },
   "outputs": [],
   "source": [
    "import urllib.request\n",
    "import wave\n",
    "import scipy.io.wavfile\n",
    "import matplotlib.pyplot\n",
    "import matplotlib.pylab\n",
    "import numpy"
   ]
  },
  {
   "cell_type": "code",
   "execution_count": 44,
   "metadata": {
    "collapsed": true
   },
   "outputs": [],
   "source": [
    "response = urllib.request.urlopen('http://www.nch.com.au/acm/11k16bitpcm.wav')"
   ]
  },
  {
   "cell_type": "code",
   "execution_count": null,
   "metadata": {
    "collapsed": true
   },
   "outputs": [],
   "source": [
    "WAV_FILE = 'english.wav'"
   ]
  },
  {
   "cell_type": "code",
   "execution_count": null,
   "metadata": {
    "collapsed": true
   },
   "outputs": [],
   "source": [
    "file = open(WAV_FILE, 'wb+')\n",
    "file.write(response.read())\n",
    "file.close()"
   ]
  },
  {
   "cell_type": "code",
   "execution_count": null,
   "metadata": {},
   "outputs": [],
   "source": [
    "wavefile = wave.open(WAV_FILE, 'r')"
   ]
  },
  {
   "cell_type": "markdown",
   "metadata": {},
   "source": [
    "## 简单幅度处理"
   ]
  },
  {
   "cell_type": "code",
   "execution_count": null,
   "metadata": {
    "collapsed": true
   },
   "outputs": [],
   "source": [
    "params = wavefile.getparams()"
   ]
  },
  {
   "cell_type": "code",
   "execution_count": null,
   "metadata": {
    "collapsed": true
   },
   "outputs": [],
   "source": [
    "nchannels, sample_width, framerate, numframes = params[:4]"
   ]
  },
  {
   "cell_type": "code",
   "execution_count": null,
   "metadata": {
    "collapsed": true
   },
   "outputs": [],
   "source": [
    "sample_rate, data = scipy.io.wavfile.read(WAV_FILE)"
   ]
  },
  {
   "cell_type": "code",
   "execution_count": null,
   "metadata": {},
   "outputs": [],
   "source": [
    "matplotlib.pyplot.subplot(2,1,1)\n",
    "matplotlib.pyplot.title('Original')\n",
    "matplotlib.pyplot.plot(data)"
   ]
  },
  {
   "cell_type": "markdown",
   "metadata": {},
   "source": [
    "## 简单时频分析"
   ]
  },
  {
   "cell_type": "code",
   "execution_count": null,
   "metadata": {},
   "outputs": [],
   "source": [
    "newdata = data * 0.2\n",
    "newdata = newdata.astype(numpy.int16)\n",
    "scipy.io.wavfile.write('silent.wav', sample_rate, newdata)\n",
    "matplotlib.pyplot.subplot(2,1,2)\n",
    "matplotlib.pyplot.title('Quiet')\n",
    "matplotlib.pyplot.plot(newdata)\n",
    "matplotlib.pyplot.show()\n",
    "result = matplotlib.pylab.specgram(newdata, NFFT=1024, Fs = sample_rate, noverlap=900)"
   ]
  },
  {
   "cell_type": "code",
   "execution_count": null,
   "metadata": {
    "collapsed": true
   },
   "outputs": [],
   "source": [
    "#y:音频信号\n",
    "#NFFT：每个进行快速傅里叶变换的数据块大小，一般取2的幂次\n",
    "#Fs:采样率\n",
    "#noverlap：数据块之间重叠数据点的个数"
   ]
  },
  {
   "cell_type": "code",
   "execution_count": null,
   "metadata": {},
   "outputs": [],
   "source": [
    "matplotlib.pylab.show()"
   ]
  },
  {
   "cell_type": "code",
   "execution_count": null,
   "metadata": {},
   "outputs": [],
   "source": [
    "# 注：Python的wave模块也可以实现相应的wav文件读取，示例代码如下：\n",
    "#\n",
    "#wavefile = wave.open(WAV_FILE,'r')\n",
    "#params = wavefile.getparams()\n",
    "#nchannels, sample_width, framerate, numframes = params[:4]\n",
    "#nchannels:声道数\n",
    "#sample_width:采样宽度,每个采样的字节数\n",
    "#framerate:采样率\n",
    "#numframes:总采样数\n",
    "\n",
    "#y_data = wavefile.readframes(numframes)\n",
    "#y = numpy.fromstring(y_data, dtype=numpy.int16)\n",
    "#result = matplotlib.pylab.specgram(y, NFFT=1024, Fs = framerate, noverlap=900)\n",
    "'''"
   ]
  }
 ],
 "metadata": {
  "kernelspec": {
   "display_name": "Python 3",
   "language": "python",
   "name": "python3"
  },
  "language_info": {
   "codemirror_mode": {
    "name": "ipython",
    "version": 3
   },
   "file_extension": ".py",
   "mimetype": "text/x-python",
   "name": "python",
   "nbconvert_exporter": "python",
   "pygments_lexer": "ipython3",
   "version": "3.5.4"
  }
 },
 "nbformat": 4,
 "nbformat_minor": 2
}
