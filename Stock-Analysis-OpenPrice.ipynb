{
 "cells": [
  {
   "cell_type": "markdown",
   "metadata": {
    "collapsed": true
   },
   "source": [
    "# 将Intel和IBM公司近一年来每个月开票价的平均值绘制在一张图中"
   ]
  },
  {
   "cell_type": "code",
   "execution_count": 3,
   "metadata": {},
   "outputs": [],
   "source": [
    "import requests\n",
    "import re\n",
    "import json\n",
    "import pandas as pd\n",
    "from datetime import date\n",
    "import time\n",
    "from pylab import *\n",
    "from scipy.cluster.vq import *"
   ]
  },
  {
   "cell_type": "code",
   "execution_count": 17,
   "metadata": {
    "collapsed": true
   },
   "outputs": [],
   "source": [
    "def retrieve_quotes_historical(stock_code):\n",
    "    quotes = []\n",
    "    url = 'https://finance.yahoo.com/quote/%s/history?p=%s' % (stock_code, stock_code)\n",
    "    r = requests.get(url)\n",
    "    m = re.findall('\"HistoricalPriceStore\":{\"prices\":(.*?),\"isPending\"', r.text)\n",
    "    if m:\n",
    "        quotes = json.loads(m[0])\n",
    "        quotes = quotes[::-1]\n",
    "    return [item for item in quotes if not 'type' in item]"
   ]
  },
  {
   "cell_type": "code",
   "execution_count": 18,
   "metadata": {},
   "outputs": [],
   "source": [
    "def create_aveg_open(stock_code):\n",
    "    quotes = retrieve_quotes_historical(stock_code)\n",
    "    list1 = []\n",
    "    for i in range(len(quotes)):\n",
    "        x = date.fromtimestamp(quotes[i]['date'])\n",
    "        y = date.strftime(x, '%Y-%m-%d')\n",
    "        list1.append(y)\n",
    "    quotesdf_ori = pd.DataFrame(quotes, index=list1)\n",
    "    listtemp = []\n",
    "    for i in range(len(quotesdf_ori)):\n",
    "        temp = time.strptime(quotesdf_ori.index[i],\"%Y-%m-%d\")\n",
    "        listtemp.append(temp.tm_mon)\n",
    "    tempdf = quotesdf_ori.copy()\n",
    "    tempdf['month'] = listtemp\n",
    "    meanopen = tempdf.groupby('month').open.mean()\n",
    "    return meanopen"
   ]
  },
  {
   "cell_type": "code",
   "execution_count": 19,
   "metadata": {
    "collapsed": true
   },
   "outputs": [],
   "source": [
    "open1 = create_aveg_open('INTC')\n",
    "open2 = create_aveg_open('IBM')"
   ]
  },
  {
   "cell_type": "code",
   "execution_count": 20,
   "metadata": {},
   "outputs": [
    {
     "data": {
      "text/plain": [
       "[<matplotlib.lines.Line2D at 0x10a2afd68>]"
      ]
     },
     "execution_count": 20,
     "metadata": {},
     "output_type": "execute_result"
    }
   ],
   "source": [
    "subplot(211)\n",
    "plt.plot(open1.index, open1.values, color='r', marker='o')\n",
    "subplot(212)\n",
    "plt.plot(open1.index, open2.values, color='green', marker='o')"
   ]
  },
  {
   "cell_type": "code",
   "execution_count": 21,
   "metadata": {},
   "outputs": [
    {
     "data": {
      "image/png": "[encoded data removed]",
      "text/plain": [
       "<matplotlib.figure.Figure at 0x10a299710>"
      ]
     },
     "metadata": {},
     "output_type": "display_data"
    }
   ],
   "source": [
    "plt.show()"
   ]
  },
  {
   "cell_type": "code",
   "execution_count": null,
   "metadata": {
    "collapsed": true
   },
   "outputs": [],
   "source": []
  }
 ],
 "metadata": {
  "kernelspec": {
   "display_name": "Python 3",
   "language": "python",
   "name": "python3"
  },
  "language_info": {
   "codemirror_mode": {
    "name": "ipython",
    "version": 3
   },
   "file_extension": ".py",
   "mimetype": "text/x-python",
   "name": "python",
   "nbconvert_exporter": "python",
   "pygments_lexer": "ipython3",
   "version": "3.5.4"
  }
 },
 "nbformat": 4,
 "nbformat_minor": 2
}
