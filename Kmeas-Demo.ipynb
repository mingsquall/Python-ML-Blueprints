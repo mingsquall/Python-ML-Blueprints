{
 "cells": [
  {
   "cell_type": "markdown",
   "metadata": {},
   "source": [
    "## 聚类的流程\n",
    "1. 任意选择k个对象作为初始的聚类中心\n",
    "2. 对每个点确定它的聚类中心点（实际上就是计算距离, 一般采用均方差 作为标准测度函数）\n",
    "3. 计算每个新聚类的聚类中心，直到收敛（确定的中心点不再改变）\n",
    "4. 保证各聚类本身尽可能紧凑，而各聚类之间尽可能分开"
   ]
  },
  {
   "cell_type": "markdown",
   "metadata": {},
   "source": [
    "### 实际例子：在几组成绩内寻找潜在学霸"
   ]
  },
  {
   "cell_type": "markdown",
   "metadata": {},
   "source": [
    "#### 方法1：使用scipy"
   ]
  },
  {
   "cell_type": "code",
   "execution_count": 4,
   "metadata": {
    "collapsed": true
   },
   "outputs": [],
   "source": [
    "import numpy as np"
   ]
  },
  {
   "cell_type": "code",
   "execution_count": 5,
   "metadata": {},
   "outputs": [],
   "source": [
    "from scipy.cluster.vq import vq, kmeans, whiten"
   ]
  },
  {
   "cell_type": "code",
   "execution_count": 8,
   "metadata": {
    "collapsed": true
   },
   "outputs": [],
   "source": [
    "# 所有人的成绩\n",
    "p1 = [88.0, 74.0, 96.0, 85.0]\n",
    "p2 = [92.0, 99.0, 95.0, 94.0]\n",
    "p3 = [91.0, 87.0, 99.0, 95.0]\n",
    "p4 = [78.0, 99.0, 97.0, 81.0]\n",
    "p5 = [88.0, 78.0, 98.0, 84.0]\n",
    "p6 = [100.0, 95.0, 100.0, 92.0]\n",
    "p7 = [100.0, 99.0, 100.0, 94.0]\n",
    "p8 = [99.0, 91.0, 99.0, 99.0]"
   ]
  },
  {
   "cell_type": "code",
   "execution_count": 9,
   "metadata": {},
   "outputs": [],
   "source": [
    "data = np.array([p1,p2,p3,p4,p5,p6,p7,p8])"
   ]
  },
  {
   "cell_type": "code",
   "execution_count": 10,
   "metadata": {
    "collapsed": true
   },
   "outputs": [],
   "source": [
    "whiten = whiten(data) # whiten()算出各类元素的标准差"
   ]
  },
  {
   "cell_type": "code",
   "execution_count": 12,
   "metadata": {
    "collapsed": true
   },
   "outputs": [],
   "source": [
    "centroids,_ = kmeans(whiten, 2) \n",
    "# kmeas()对数据进行聚类，这里选择聚成2类，返回结果是一个元组，我们只需要用到第一个值"
   ]
  },
  {
   "cell_type": "code",
   "execution_count": 13,
   "metadata": {
    "collapsed": true
   },
   "outputs": [],
   "source": [
    "result,_ = vq(whiten, centroids) # vq()矢量量化函数，对每一个人进行归类"
   ]
  },
  {
   "cell_type": "code",
   "execution_count": 14,
   "metadata": {},
   "outputs": [
    {
     "name": "stdout",
     "output_type": "stream",
     "text": [
      "[0 0 1 0 0 1 1 1]\n"
     ]
    }
   ],
   "source": [
    "print(result) # 结果中0代表学霸，1代表非学霸"
   ]
  },
  {
   "cell_type": "markdown",
   "metadata": {},
   "source": [
    "#### 方法2：使用sklearn"
   ]
  },
  {
   "cell_type": "code",
   "execution_count": 20,
   "metadata": {
    "collapsed": true
   },
   "outputs": [],
   "source": [
    "from sklearn.cluster import KMeans"
   ]
  },
  {
   "cell_type": "code",
   "execution_count": 21,
   "metadata": {
    "collapsed": true
   },
   "outputs": [],
   "source": [
    "p1 = [88.0, 74.0, 96.0, 85.0]\n",
    "p2 = [92.0, 99.0, 95.0, 94.0]\n",
    "p3 = [91.0, 87.0, 99.0, 95.0]\n",
    "p4 = [78.0, 99.0, 97.0, 81.0]\n",
    "p5 = [88.0, 78.0, 98.0, 84.0]\n",
    "p6 = [100.0, 95.0, 100.0, 92.0]\n",
    "p7 = [100.0, 99.0, 100.0, 94.0]\n",
    "p8 = [99.0, 91.0, 99.0, 99.0]"
   ]
  },
  {
   "cell_type": "code",
   "execution_count": 22,
   "metadata": {
    "collapsed": true
   },
   "outputs": [],
   "source": [
    "X = np.array([p1,p2,p3,p4,p5,p6,p7,p8])"
   ]
  },
  {
   "cell_type": "code",
   "execution_count": 23,
   "metadata": {
    "collapsed": true
   },
   "outputs": [],
   "source": [
    "kmeans = KMeans(n_clusters = 2).fit(X) # fit()进行对数据集X的聚类"
   ]
  },
  {
   "cell_type": "code",
   "execution_count": 26,
   "metadata": {
    "collapsed": true
   },
   "outputs": [],
   "source": [
    "pred = kmeans.predict(X) # predict()根据聚类的结果确定数据所属类别"
   ]
  },
  {
   "cell_type": "code",
   "execution_count": 27,
   "metadata": {},
   "outputs": [
    {
     "name": "stdout",
     "output_type": "stream",
     "text": [
      "[1 0 0 1 1 0 0 0]\n"
     ]
    }
   ],
   "source": [
    "print(pred) # 0代表学霸，1代表非学霸"
   ]
  },
  {
   "cell_type": "code",
   "execution_count": null,
   "metadata": {
    "collapsed": true
   },
   "outputs": [],
   "source": []
  }
 ],
 "metadata": {
  "kernelspec": {
   "display_name": "Python 3",
   "language": "python",
   "name": "python3"
  },
  "language_info": {
   "codemirror_mode": {
    "name": "ipython",
    "version": 3
   },
   "file_extension": ".py",
   "mimetype": "text/x-python",
   "name": "python",
   "nbconvert_exporter": "python",
   "pygments_lexer": "ipython3",
   "version": "3.5.4"
  }
 },
 "nbformat": 4,
 "nbformat_minor": 2
}
